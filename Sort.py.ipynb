{
 "cells": [
  {
   "cell_type": "code",
   "execution_count": 1,
   "metadata": {},
   "outputs": [],
   "source": [
    "# Multiple ways to sort array "
   ]
  },
  {
   "cell_type": "code",
   "execution_count": 18,
   "metadata": {},
   "outputs": [],
   "source": [
    "# Bubble Sort\n",
    "def bubbleSort(a):\n",
    "    for i in range (0, len(a)-1, 1):\n",
    "        for j in range (0,len(a)-1-i,1):\n",
    "            if (a[j]>a[j+1]):\n",
    "                x = a[j] \n",
    "                a[j] = a[j+1]\n",
    "                a[j+1] = x\n",
    "    \n"
   ]
  },
  {
   "cell_type": "code",
   "execution_count": 50,
   "metadata": {},
   "outputs": [],
   "source": [
    "# Insertion Sort\n",
    "def insertionSort(a):\n",
    "    for i in range(1,len(a)-1,1):\n",
    "        key = a[i]\n",
    "        j = i-1\n",
    "        print(\"i,j = \" , i , \",\" , j)\n",
    "        while (j>=0 and key<a[j]):\n",
    "            x = a[j]\n",
    "            a[j] = a[j+1]\n",
    "            a[j+1] = x\n",
    "            print(\"i,j = \" , i , \",\" , j, \"array = \" , a)\n",
    "            j = j-1\n",
    "            \n",
    "def insertionSort2 (a):\n",
    "    for i in range(1,len(a)):\n",
    "        currentValue = a[i]\n",
    "        position = i\n",
    "        while (position>0 and a[position-1] > currentValue):\n",
    "            a[position] = a[position - 1]\n",
    "            position = position -1\n",
    "            print(\"currentValue,position = \" , currentValue , \",\" , position, \"array = \" , a)\n",
    "        a[position] = currentValue\n",
    "        print(\"currentValue,position = \" , currentValue , \",\" , position, \"array = \" , a)\n",
    "            \n",
    "    \n"
   ]
  },
  {
   "cell_type": "code",
   "execution_count": null,
   "metadata": {},
   "outputs": [],
   "source": [
    "# Quick Sort"
   ]
  },
  {
   "cell_type": "code",
   "execution_count": 20,
   "metadata": {},
   "outputs": [
    {
     "name": "stdout",
     "output_type": "stream",
     "text": [
      "[5, 10, 3, 9, 14, 71]\n",
      "[3, 5, 9, 10, 14, 71]\n"
     ]
    }
   ],
   "source": [
    "# Main - BubbleSort\n",
    "a_list = [5,10,3,9,14,71]\n",
    "print(a_list)\n",
    "bubbleSort(a_list)\n",
    "print(a_list)\n"
   ]
  },
  {
   "cell_type": "code",
   "execution_count": 51,
   "metadata": {},
   "outputs": [
    {
     "name": "stdout",
     "output_type": "stream",
     "text": [
      "[5, 10, 3, 9, 14, 71]\n",
      "currentValue,position =  10 , 1 array =  [5, 10, 3, 9, 14, 71]\n",
      "currentValue,position =  3 , 1 array =  [5, 10, 10, 9, 14, 71]\n",
      "currentValue,position =  3 , 0 array =  [5, 5, 10, 9, 14, 71]\n",
      "currentValue,position =  3 , 0 array =  [3, 5, 10, 9, 14, 71]\n",
      "currentValue,position =  9 , 2 array =  [3, 5, 10, 10, 14, 71]\n",
      "currentValue,position =  9 , 2 array =  [3, 5, 9, 10, 14, 71]\n",
      "currentValue,position =  14 , 4 array =  [3, 5, 9, 10, 14, 71]\n",
      "currentValue,position =  71 , 5 array =  [3, 5, 9, 10, 14, 71]\n",
      "[3, 5, 9, 10, 14, 71]\n"
     ]
    }
   ],
   "source": [
    "# Main - InsertionSort\n",
    "b_list = [5,10,3,9,14,71]\n",
    "print(b_list)\n",
    "insertionSort2(b_list)\n",
    "print(b_list)"
   ]
  },
  {
   "cell_type": "code",
   "execution_count": null,
   "metadata": {},
   "outputs": [],
   "source": []
  }
 ],
 "metadata": {
  "kernelspec": {
   "display_name": "Python 3",
   "language": "python",
   "name": "python3"
  },
  "language_info": {
   "codemirror_mode": {
    "name": "ipython",
    "version": 3
   },
   "file_extension": ".py",
   "mimetype": "text/x-python",
   "name": "python",
   "nbconvert_exporter": "python",
   "pygments_lexer": "ipython3",
   "version": "3.7.6"
  }
 },
 "nbformat": 4,
 "nbformat_minor": 4
}
