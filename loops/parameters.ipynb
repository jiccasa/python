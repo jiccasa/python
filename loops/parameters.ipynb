{
 "cells": [
  {
   "cell_type": "code",
   "execution_count": 6,
   "metadata": {},
   "outputs": [],
   "source": [
    "# Test call by value\n",
    "def double_wrong (x):\n",
    "    x = x*2\n",
    "    print(x)\n",
    "    \n",
    "def double (x):\n",
    "    x = x*2\n",
    "    return x"
   ]
  },
  {
   "cell_type": "code",
   "execution_count": 10,
   "metadata": {},
   "outputs": [],
   "source": [
    "# Test array call be reference\n",
    "def double_list (x):\n",
    "    for i in range (0,len(x),1):\n",
    "        x[i] = x[i] * 2\n",
    "        \n",
    "def double_list2 (x):\n",
    "    for i in range (0,len(x),1):\n",
    "        x[i] = x[i] * 2\n",
    "    return x"
   ]
  },
  {
   "cell_type": "code",
   "execution_count": 8,
   "metadata": {},
   "outputs": [
    {
     "name": "stdout",
     "output_type": "stream",
     "text": [
      "10\n",
      "5\n",
      "10\n"
     ]
    }
   ],
   "source": [
    "# Main\n",
    "y = 5\n",
    "double_wrong (y)\n",
    "print(y)\n",
    "# Call by value funciton called will not create any side effects that is it cannot change the value y\n",
    "print(double(y))\n",
    "\n"
   ]
  },
  {
   "cell_type": "code",
   "execution_count": 11,
   "metadata": {},
   "outputs": [
    {
     "name": "stdout",
     "output_type": "stream",
     "text": [
      "[10, 20, 6]\n",
      "[20, 40, 12]\n"
     ]
    }
   ],
   "source": [
    "l = [5,10,3]\n",
    "double_list(l)\n",
    "print(l)\n",
    "# Arrays are called by reference so the called function may add some side effects if it is manipulating the data inside the function\n",
    "print(double_list2(l))"
   ]
  },
  {
   "cell_type": "code",
   "execution_count": null,
   "metadata": {},
   "outputs": [],
   "source": []
  }
 ],
 "metadata": {
  "kernelspec": {
   "display_name": "Python 3",
   "language": "python",
   "name": "python3"
  },
  "language_info": {
   "codemirror_mode": {
    "name": "ipython",
    "version": 3
   },
   "file_extension": ".py",
   "mimetype": "text/x-python",
   "name": "python",
   "nbconvert_exporter": "python",
   "pygments_lexer": "ipython3",
   "version": "3.7.6"
  }
 },
 "nbformat": 4,
 "nbformat_minor": 4
}
