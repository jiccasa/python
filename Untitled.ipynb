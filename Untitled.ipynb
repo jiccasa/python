{
 "cells": [
  {
   "cell_type": "code",
   "execution_count": 1,
   "metadata": {},
   "outputs": [
    {
     "ename": "SyntaxError",
     "evalue": "invalid syntax (<ipython-input-1-22c3ae4f6b7c>, line 5)",
     "output_type": "error",
     "traceback": [
      "\u001b[0;36m  File \u001b[0;32m\"<ipython-input-1-22c3ae4f6b7c>\"\u001b[0;36m, line \u001b[0;32m5\u001b[0m\n\u001b[0;31m    public int[] bubbleSort (int[] list) {\u001b[0m\n\u001b[0m             ^\u001b[0m\n\u001b[0;31mSyntaxError\u001b[0m\u001b[0;31m:\u001b[0m invalid syntax\n"
     ]
    }
   ],
   "source": [
    "#Bubble Sort\n",
    "#not very effecient --> nested for loops\n",
    "#useful for small data sets\n",
    "#runs in O(n^2)\n",
    "public int[] bubbleSort (int[] list) {\n",
    "    int i, j, temp = 0;\n",
    "    for (i = 0; i < list.length - 1; i++) {\n",
    "        for (j = 0; j < list.length - 1 - i; j++) {\n",
    "            if (list[j] > list[j + 1]) {\n",
    "                temp = list[j];\n",
    "                list[j] = list[j + 1];\n",
    "                list[j + 1] = temp;\n",
    "            }\n",
    "        }\n",
    "    }\n",
    "    return list;\n"
   ]
  },
  {
   "cell_type": "code",
   "execution_count": null,
   "metadata": {},
   "outputs": [],
   "source": [
    "#Insertion Sort\n",
    "#not very effecient --> nested for loops\n",
    "#useful for small data sets\n",
    "#runs in O(n^2)\n"
   ]
  }
 ],
 "metadata": {
  "kernelspec": {
   "display_name": "Python 3",
   "language": "python",
   "name": "python3"
  },
  "language_info": {
   "codemirror_mode": {
    "name": "ipython",
    "version": 3
   },
   "file_extension": ".py",
   "mimetype": "text/x-python",
   "name": "python",
   "nbconvert_exporter": "python",
   "pygments_lexer": "ipython3",
   "version": "3.7.6"
  }
 },
 "nbformat": 4,
 "nbformat_minor": 4
}
