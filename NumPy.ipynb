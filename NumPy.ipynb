{
 "cells": [
  {
   "cell_type": "code",
   "execution_count": 1,
   "metadata": {},
   "outputs": [
    {
     "name": "stdout",
     "output_type": "stream",
     "text": [
      "[2 3 4]\n"
     ]
    }
   ],
   "source": [
    "# Creating NumPy Arrays\n",
    "import numpy as np\n",
    "a = np.array([2,3,4])\n",
    "print(a)\n"
   ]
  },
  {
   "cell_type": "code",
   "execution_count": 2,
   "metadata": {},
   "outputs": [
    {
     "name": "stdout",
     "output_type": "stream",
     "text": [
      "[ 1  3  5  7  9 11]\n"
     ]
    }
   ],
   "source": [
    "# Creating NumPy Arrays with start,end,step\n",
    "a = np.arange(1,12,2)\n",
    "print(a)"
   ]
  },
  {
   "cell_type": "code",
   "execution_count": 3,
   "metadata": {},
   "outputs": [
    {
     "name": "stdout",
     "output_type": "stream",
     "text": [
      "[ 1.   3.2  5.4  7.6  9.8 12. ]\n"
     ]
    }
   ],
   "source": [
    "# Creating NumPy Array with start,end,elements to see and are evenly spaced\n",
    "a = np.linspace(1,12,6)\n",
    "print(a)"
   ]
  },
  {
   "cell_type": "code",
   "execution_count": 4,
   "metadata": {},
   "outputs": [
    {
     "name": "stdout",
     "output_type": "stream",
     "text": [
      "[1. 3. 5. 7.]\n"
     ]
    }
   ],
   "source": [
    "# Creating NumPy Array with start,end,elements to see and are evenly spaced\n",
    "a = np.linspace(1,7,4)\n",
    "print(a)"
   ]
  },
  {
   "cell_type": "code",
   "execution_count": 5,
   "metadata": {},
   "outputs": [
    {
     "name": "stdout",
     "output_type": "stream",
     "text": [
      "[1.         3.16666667 5.33333333 7.5       ]\n"
     ]
    }
   ],
   "source": [
    "# Creating NumPy Array with start,end,elements to see and are evenly spaced\n",
    "a = np.linspace(1,7.5,4)\n",
    "print(a)"
   ]
  },
  {
   "cell_type": "code",
   "execution_count": 14,
   "metadata": {},
   "outputs": [
    {
     "name": "stdout",
     "output_type": "stream",
     "text": [
      "[[ 1.   3.2]\n",
      " [ 5.4  7.6]\n",
      " [ 9.8 12. ]]\n"
     ]
    }
   ],
   "source": [
    "# Creating NumPy Array with start,end,elements to see and are evenly spaced\n",
    "a = np.linspace(1,12,6)\n",
    "# Reshape 1-D Array into a 2-D Array\n",
    "a = a.reshape(3,2)\n",
    "print(a)"
   ]
  },
  {
   "cell_type": "code",
   "execution_count": 9,
   "metadata": {},
   "outputs": [
    {
     "data": {
      "text/plain": [
       "6"
      ]
     },
     "execution_count": 9,
     "metadata": {},
     "output_type": "execute_result"
    }
   ],
   "source": [
    "# Size of 2-D Array\n",
    "a.size\n"
   ]
  },
  {
   "cell_type": "code",
   "execution_count": 10,
   "metadata": {},
   "outputs": [
    {
     "data": {
      "text/plain": [
       "(3, 2)"
      ]
     },
     "execution_count": 10,
     "metadata": {},
     "output_type": "execute_result"
    }
   ],
   "source": [
    "# Dimensions of 2-D Array\n",
    "a.shape\n"
   ]
  },
  {
   "cell_type": "code",
   "execution_count": 15,
   "metadata": {},
   "outputs": [
    {
     "data": {
      "text/plain": [
       "dtype('float64')"
      ]
     },
     "execution_count": 15,
     "metadata": {},
     "output_type": "execute_result"
    }
   ],
   "source": [
    "# Data type of 2-D Array\n",
    "a.dtype"
   ]
  },
  {
   "cell_type": "code",
   "execution_count": 16,
   "metadata": {},
   "outputs": [
    {
     "data": {
      "text/plain": [
       "8"
      ]
     },
     "execution_count": 16,
     "metadata": {},
     "output_type": "execute_result"
    }
   ],
   "source": [
    "# Memorize each element of array takes up\n",
    "a.itemsize"
   ]
  },
  {
   "cell_type": "code",
   "execution_count": 19,
   "metadata": {},
   "outputs": [
    {
     "name": "stdout",
     "output_type": "stream",
     "text": [
      "[[1.5 2.  3. ]\n",
      " [4.  5.  6. ]]\n"
     ]
    }
   ],
   "source": [
    "# Need square brackets when declaring arrays\n",
    "b = np.array([(1.5,2,3),(4,5,6)])\n",
    "print(b)\n",
    "#b = np.array(1,2,3) --> does not work\n"
   ]
  },
  {
   "cell_type": "code",
   "execution_count": 20,
   "metadata": {},
   "outputs": [
    {
     "name": "stdout",
     "output_type": "stream",
     "text": [
      "[[ True  True]\n",
      " [False False]\n",
      " [False False]]\n"
     ]
    }
   ],
   "source": [
    "# Arrays print boolean values when comparing to a number\n",
    "print(a<4)"
   ]
  },
  {
   "cell_type": "code",
   "execution_count": 24,
   "metadata": {},
   "outputs": [
    {
     "name": "stdout",
     "output_type": "stream",
     "text": [
      "[[  9.   28.8]\n",
      " [ 48.6  68.4]\n",
      " [ 88.2 108. ]]\n",
      "[[ 3.   9.6]\n",
      " [16.2 22.8]\n",
      " [29.4 36. ]]\n",
      "[[  9.   28.8]\n",
      " [ 48.6  68.4]\n",
      " [ 88.2 108. ]]\n"
     ]
    }
   ],
   "source": [
    "# Can multiply all elements by a constant at once\n",
    "print(a*3)\n",
    "# But original array will still be unchanged\n",
    "print(a)\n",
    "# Need to set original array equals for it to change\n",
    "a *= 3\n",
    "print(a)"
   ]
  },
  {
   "cell_type": "code",
   "execution_count": 25,
   "metadata": {},
   "outputs": [
    {
     "name": "stdout",
     "output_type": "stream",
     "text": [
      "[[0. 0. 0. 0.]\n",
      " [0. 0. 0. 0.]\n",
      " [0. 0. 0. 0.]]\n"
     ]
    }
   ],
   "source": [
    "# Creating an empty 2-D array full of zeros\n",
    "a = np.zeros((3,4))\n",
    "print(a)"
   ]
  },
  {
   "cell_type": "code",
   "execution_count": 27,
   "metadata": {},
   "outputs": [
    {
     "name": "stdout",
     "output_type": "stream",
     "text": [
      "[[1. 1. 1.]\n",
      " [1. 1. 1.]]\n",
      "[1. 1. 1. 1. 1. 1. 1. 1. 1. 1.]\n"
     ]
    }
   ],
   "source": [
    "# Creating an empty 2-D array full of ones\n",
    "a = np.ones((2,3))\n",
    "print(a)\n",
    "# Creating an empty 1-D array full of ones\n",
    "a = np.ones(10)\n",
    "print(a)"
   ]
  },
  {
   "cell_type": "code",
   "execution_count": 31,
   "metadata": {},
   "outputs": [
    {
     "name": "stdout",
     "output_type": "stream",
     "text": [
      "[2 3 4]\n",
      "int16\n"
     ]
    },
    {
     "data": {
      "text/plain": [
       "2"
      ]
     },
     "execution_count": 31,
     "metadata": {},
     "output_type": "execute_result"
    }
   ],
   "source": [
    "# Creating array with specific data type\n",
    "a = np.array([2,3,4], dtype = np.int16)\n",
    "print(a)\n",
    "# Checking type\n",
    "print(a.dtype)\n",
    "# Checking number of bytes\n",
    "a.itemsize"
   ]
  },
  {
   "cell_type": "code",
   "execution_count": 38,
   "metadata": {},
   "outputs": [
    {
     "name": "stdout",
     "output_type": "stream",
     "text": [
      "[[0.87 0.89 0.27]\n",
      " [0.61 0.21 0.34]]\n"
     ]
    }
   ],
   "source": [
    "# Creating a random array\n",
    "a = np.random.random((2,3))\n",
    "print(a)"
   ]
  },
  {
   "cell_type": "code",
   "execution_count": 37,
   "metadata": {},
   "outputs": [
    {
     "name": "stdout",
     "output_type": "stream",
     "text": [
      "[[0.66 0.09 0.44]\n",
      " [0.74 0.16 0.23]]\n"
     ]
    }
   ],
   "source": [
    "# Setting all arrays to round to 2 decimals and whether to print zeros\n",
    "np.set_printoptions(precision=2,suppress=True)\n",
    "print(a)"
   ]
  },
  {
   "cell_type": "code",
   "execution_count": 39,
   "metadata": {},
   "outputs": [
    {
     "name": "stdout",
     "output_type": "stream",
     "text": [
      "[2 0 1 4 4]\n"
     ]
    }
   ],
   "source": [
    "# Creating an array with random numbers from sepcified interval & number of elements\n",
    "a = np.random.randint(0,10,5)\n",
    "print(a)\n",
    "# Max of a\n",
    "print(a.max())\n",
    "# Min of a\n",
    "print(a.min())\n",
    "# Sum of a\n",
    "print(a.sum())\n",
    "# Mean of a\n",
    "print(a.mean())\n",
    "# Variance of a\n",
    "print(a.var())\n",
    "# Standard Deviation of a\n",
    "print (a.std())\n"
   ]
  },
  {
   "cell_type": "code",
   "execution_count": 44,
   "metadata": {},
   "outputs": [
    {
     "name": "stdout",
     "output_type": "stream",
     "text": [
      "[[4 9]\n",
      " [1 8]\n",
      " [7 8]]\n",
      "[13  9 15]\n",
      "[12 25]\n"
     ]
    }
   ],
   "source": [
    "a = np.random.randint(1,10,6)\n",
    "a = a.reshape(3,2)\n",
    "print(a)\n",
    "# Summing all horizontal number\n",
    "print(a.sum(axis=1))\n",
    "# Summing all vertical numbers\n",
    "print(a.sum(axis=0))\n",
    "\n"
   ]
  },
  {
   "cell_type": "code",
   "execution_count": 47,
   "metadata": {},
   "outputs": [
    {
     "data": {
      "text/plain": [
       "array([[10, 11, 12, 13, 14, 15, 16, 17, 18, 19],\n",
       "       [20, 21, 22, 23, 24, 25, 26, 27, 28, 29],\n",
       "       [30, 31, 32, 33, 34, 35, 36, 37, 38, 39],\n",
       "       [40, 41, 42, 43, 44, 45, 46, 47, 48, 49],\n",
       "       [50, 51, 52, 53, 54, 55, 56, 57, 58, 59],\n",
       "       [60, 61, 62, 63, 64, 65, 66, 67, 68, 69],\n",
       "       [70, 71, 72, 73, 74, 75, 76, 77, 78, 79],\n",
       "       [80, 81, 82, 83, 84, 85, 86, 87, 88, 89],\n",
       "       [90, 91, 92, 93, 94, 95, 96, 97, 98, 99]], dtype=uint8)"
      ]
     },
     "execution_count": 47,
     "metadata": {},
     "output_type": "execute_result"
    }
   ],
   "source": [
    "#Importing CSV file\n",
    "data = np.loadtxt(\"data.csv\", dtype=np.uint8, delimiter = \",\",skiprows = 1)\n",
    "data"
   ]
  },
  {
   "cell_type": "code",
   "execution_count": 49,
   "metadata": {},
   "outputs": [
    {
     "name": "stdout",
     "output_type": "stream",
     "text": [
      "[5 4 0 2 9 8 7 6 1 3]\n"
     ]
    },
    {
     "data": {
      "text/plain": [
       "2"
      ]
     },
     "execution_count": 49,
     "metadata": {},
     "output_type": "execute_result"
    }
   ],
   "source": [
    "a = np.arange(10)\n",
    "#Shuffle elements in array\n",
    "np.random.shuffle(a)\n",
    "print(a)\n",
    "#Choose a random element in array \n",
    "np.random.choice(a)\n"
   ]
  },
  {
   "cell_type": "code",
   "execution_count": 51,
   "metadata": {},
   "outputs": [
    {
     "name": "stderr",
     "output_type": "stream",
     "text": [
      "/Users/Jessica/opt/anaconda3/lib/python3.7/site-packages/ipykernel_launcher.py:2: DeprecationWarning: This function is deprecated. Please call randint(5, 11 + 1) instead\n",
      "  \n"
     ]
    },
    {
     "data": {
      "text/plain": [
       "array([7, 7])"
      ]
     },
     "execution_count": 51,
     "metadata": {},
     "output_type": "execute_result"
    }
   ],
   "source": [
    "#Choosing random integers from specified interval\n",
    "np.random.random_integers(5,11,2)\n"
   ]
  },
  {
   "cell_type": "code",
   "execution_count": null,
   "metadata": {},
   "outputs": [],
   "source": []
  }
 ],
 "metadata": {
  "kernelspec": {
   "display_name": "Python 3",
   "language": "python",
   "name": "python3"
  },
  "language_info": {
   "codemirror_mode": {
    "name": "ipython",
    "version": 3
   },
   "file_extension": ".py",
   "mimetype": "text/x-python",
   "name": "python",
   "nbconvert_exporter": "python",
   "pygments_lexer": "ipython3",
   "version": "3.7.6"
  }
 },
 "nbformat": 4,
 "nbformat_minor": 4
}
